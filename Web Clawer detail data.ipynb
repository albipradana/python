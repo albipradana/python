{
 "cells": [
  {
   "cell_type": "code",
   "execution_count": 1,
   "metadata": {},
   "outputs": [],
   "source": [
    "import scrapy\n",
    "from scrapy.crawler import CrawlerProcess"
   ]
  },
  {
   "cell_type": "code",
   "execution_count": 2,
   "metadata": {},
   "outputs": [],
   "source": [
    "import  json\n",
    "\n",
    "class JsonWriterPipeline(object):\n",
    "    def open_spider(self, spider):\n",
    "        self.file = open('movie.jl', 'w')\n",
    "        \n",
    "    def close_spider(self, spider):\n",
    "        self.file.close()\n",
    "        \n",
    "    def process_item(self, item, spider):\n",
    "        line = json.dumps(dict(item)) + '\\n'\n",
    "        self.file.write(line)\n",
    "        return item"
   ]
  },
  {
   "cell_type": "code",
   "execution_count": 3,
   "metadata": {},
   "outputs": [],
   "source": [
    "import logging\n",
    "\n",
    "class QuotesSpider(scrapy.Spider):\n",
    "    name = 'movie'\n",
    "    start_urls = ['https://imdb.com/search/title/?companies=fox&view=advanced']\n",
    "    \n",
    "    def pagination(self,response):\n",
    "        page = response.css('div.desc a::attr(href)').extract_first()\n",
    "        if page:\n",
    "            pagination = repsonse.urljoin(page)\n",
    "            yield scrapy.Request(url = url, callback=self.parse)\n",
    "\n",
    "    custom_settings = {\n",
    "        'LOG_LEVEL':logging.WARNING,\n",
    "        'ITEM_PIPELINES': {'__main__.JsonWriterPipeline': 1},\n",
    "        'FEED_FORMAT':'json',\n",
    "        'FEED_URI': 'movie.json'\n",
    "    }\n",
    "    \n",
    "    \n",
    "    def parse(self, response):\n",
    "        urls = response.css('h3.lister-item-header a::attr(href)').extract()\n",
    "        for url in urls:\n",
    "            url = response.urljoin(url)\n",
    "            yield scrapy.Request(url = url, callback=self.parse_detail)\n",
    "    \n",
    "    \n",
    "    def parse_detail(self,movie):\n",
    "            yield {\n",
    "                'judul': movie.css('div.title_wrapper h1::text').extract_first().replace('\\u00a0',''),\n",
    "                'genre': movie.css('div.subtext a::text').extract(),\n",
    "                'bintang': movie.css('div.credit_summary_item a::text').extract(),\n",
    "                'certificate': movie.css('div.titleBar div.subtext::text').extract_first().replace('\\n                    ','').replace('\\n    ',''),\n",
    "                'storyline': movie.css('div.plot_summary div::text').extract_first().replace('\\n                    ','').replace('\\n            ','')\n",
    "            }"
   ]
  },
  {
   "cell_type": "code",
   "execution_count": 4,
   "metadata": {
    "scrolled": true
   },
   "outputs": [
    {
     "name": "stderr",
     "output_type": "stream",
     "text": [
      "2021-03-27 17:32:03 [scrapy.utils.log] INFO: Scrapy 2.4.1 started (bot: scrapybot)\n",
      "2021-03-27 17:32:03 [scrapy.utils.log] INFO: Versions: lxml 4.6.1.0, libxml2 2.9.10, cssselect 1.1.0, parsel 1.6.0, w3lib 1.22.0, Twisted 21.2.0, Python 3.8.5 (default, Sep  3 2020, 21:29:08) [MSC v.1916 64 bit (AMD64)], pyOpenSSL 19.1.0 (OpenSSL 1.1.1h  22 Sep 2020), cryptography 3.1.1, Platform Windows-10-10.0.19041-SP0\n",
      "2021-03-27 17:32:03 [scrapy.utils.log] DEBUG: Using reactor: twisted.internet.selectreactor.SelectReactor\n",
      "2021-03-27 17:32:03 [scrapy.crawler] INFO: Overridden settings:\n",
      "{'LOG_LEVEL': 30,\n",
      " 'USER_AGENT': 'Mozilla/5.0 (Windows NT 10.0; Win64; x64) AppleWebKit/537.36 '\n",
      "               '(KHTML, like Gecko) Chrome/72.0.3626.121 Safari/537.36'}\n",
      "2021-03-27 17:32:03 [py.warnings] WARNING: C:\\Users\\NT\\anaconda3\\lib\\site-packages\\scrapy\\extensions\\feedexport.py:247: ScrapyDeprecationWarning: The `FEED_URI` and `FEED_FORMAT` settings have been deprecated in favor of the `FEEDS` setting. Please see the `FEEDS` setting docs for more details\n",
      "  exporter = cls(crawler)\n",
      "\n"
     ]
    }
   ],
   "source": [
    "process = CrawlerProcess({\n",
    "    'USER_AGENT':'Mozilla/5.0 (Windows NT 10.0; Win64; x64) AppleWebKit/537.36 (KHTML, like Gecko) Chrome/72.0.3626.121 Safari/537.36'\n",
    "})\n",
    "\n",
    "process.crawl(QuotesSpider)\n",
    "process.start()"
   ]
  },
  {
   "cell_type": "code",
   "execution_count": 5,
   "metadata": {},
   "outputs": [
    {
     "name": "stdout",
     "output_type": "stream",
     "text": [
      " Volume in drive D is Data\n",
      " Volume Serial Number is 3673-85B8\n",
      "\n",
      " Directory of D:\\Kuliah\\Data Mining\\DATA\n",
      "\n",
      "27/03/2021  17:32            21.750 movie.jl\n",
      "27/03/2021  17:32            43.504 movie.json\n",
      "               2 File(s)         65.254 bytes\n",
      "               0 Dir(s)  209.306.566.656 bytes free\n"
     ]
    }
   ],
   "source": [
    "!dir movie.*\n"
   ]
  },
  {
   "cell_type": "code",
   "execution_count": 6,
   "metadata": {},
   "outputs": [],
   "source": [
    "!movie.json"
   ]
  }
 ],
 "metadata": {
  "kernelspec": {
   "display_name": "Python 3",
   "language": "python",
   "name": "python3"
  },
  "language_info": {
   "codemirror_mode": {
    "name": "ipython",
    "version": 3
   },
   "file_extension": ".py",
   "mimetype": "text/x-python",
   "name": "python",
   "nbconvert_exporter": "python",
   "pygments_lexer": "ipython3",
   "version": "3.8.5"
  }
 },
 "nbformat": 4,
 "nbformat_minor": 4
}
